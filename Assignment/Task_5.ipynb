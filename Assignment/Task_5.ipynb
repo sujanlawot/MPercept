{
 "cells": [
  {
   "cell_type": "code",
   "execution_count": 1,
   "metadata": {},
   "outputs": [],
   "source": [
    "import numpy as np\n",
    "students = np.array(['Aakash', 'Bikram', 'Dinesh', 'Garima', 'Indira', 'Manisha', 'Nishan', 'Pinky', 'Richa', 'Saroj'])\n",
    "subjects = np.array(['Physics', 'Chemistry', 'Biology', 'Mathematics', 'English'])\n",
    "\n",
    "fm = 100  # full mark of each subject\n",
    "pm = 40  # pass mark of each subject\n",
    "\n",
    "marks = np.array([[76, 40, 77, 83, 67],\n",
    "                   [38, 70, 54, 93, 43],\n",
    "                   [63, 92, 41, 95, 48],\n",
    "                   [43, 68, 53, 95, 81],\n",
    "                   [53, 69, 69, 74, 77],\n",
    "                   [75, 41, 79, 83, 93],\n",
    "                   [65, 74, 43, 57, 58],\n",
    "                   [34, 72, 51, 69, 85],\n",
    "                   [50, 91, 50, 57, 74],\n",
    "                   [43, 32, 73, 65, 50]])"
   ]
  },
  {
   "cell_type": "markdown",
   "metadata": {},
   "source": [
    "### Questions\n",
    "1. Who obtained the highest total marks? <sup><sub>Hint: Use `np.sum()` and `np.argmax()`</sub></sup>\n",
    "2. Calculate percentage of each student. <sup><sub>Hint: Use `np.sum()`</sub></sup>\n",
    "2. Find the names of student who failed the exam. <sup><sub>Hint: Use `np.min()` and boolean indexing</sub></sup>\n",
    "3. How many people failed in Physics? <sup><sub>Hint: Use boolean indexing and `np.count_nonzero()`</sub></sup>\n",
    "4. Which was the most difficult subject? Assume the subject with least average score to be the most difficult. <sup><sub>Hint: Use `np.mean()` and `np.argmin()`</sub></sup>"
   ]
  },
  {
   "cell_type": "markdown",
   "metadata": {},
   "source": [
    "#### Question 1 Ans"
   ]
  },
  {
   "cell_type": "code",
   "execution_count": 2,
   "metadata": {},
   "outputs": [],
   "source": [
    "totalmarks=np.sum(marks,axis=1)"
   ]
  },
  {
   "cell_type": "code",
   "execution_count": 3,
   "metadata": {},
   "outputs": [
    {
     "data": {
      "text/plain": [
       "'Manisha'"
      ]
     },
     "execution_count": 3,
     "metadata": {},
     "output_type": "execute_result"
    }
   ],
   "source": [
    "students[np.argmax(totalmarks)]"
   ]
  },
  {
   "cell_type": "markdown",
   "metadata": {},
   "source": [
    "#### Question 2 Ans"
   ]
  },
  {
   "cell_type": "code",
   "execution_count": 4,
   "metadata": {},
   "outputs": [
    {
     "data": {
      "text/plain": [
       "array([68.6, 59.6, 67.8, 68. , 68.4, 74.2, 59.4, 62.2, 64.4, 52.6])"
      ]
     },
     "execution_count": 4,
     "metadata": {},
     "output_type": "execute_result"
    }
   ],
   "source": [
    "percentage=totalmarks/5\n",
    "percentage"
   ]
  },
  {
   "cell_type": "markdown",
   "metadata": {},
   "source": [
    "#### Question 3 Ans"
   ]
  },
  {
   "cell_type": "code",
   "execution_count": 5,
   "metadata": {},
   "outputs": [
    {
     "data": {
      "text/plain": [
       "array([40, 38, 41, 43, 53, 41, 43, 34, 50, 32])"
      ]
     },
     "execution_count": 5,
     "metadata": {},
     "output_type": "execute_result"
    }
   ],
   "source": [
    "minmarks=np.min(marks,axis=1)\n",
    "minmarks"
   ]
  },
  {
   "cell_type": "code",
   "execution_count": 6,
   "metadata": {},
   "outputs": [
    {
     "data": {
      "text/plain": [
       "array(['Bikram', 'Pinky', 'Saroj'], dtype='<U7')"
      ]
     },
     "execution_count": 6,
     "metadata": {},
     "output_type": "execute_result"
    }
   ],
   "source": [
    "students[minmarks<40]"
   ]
  },
  {
   "cell_type": "markdown",
   "metadata": {},
   "source": [
    "#### Question 4 Ans"
   ]
  },
  {
   "cell_type": "code",
   "execution_count": 7,
   "metadata": {},
   "outputs": [
    {
     "data": {
      "text/plain": [
       "array([76, 38, 63, 43, 53, 75, 65, 34, 50, 43])"
      ]
     },
     "execution_count": 7,
     "metadata": {},
     "output_type": "execute_result"
    }
   ],
   "source": [
    "physicmarks=marks[:,0]\n",
    "physicmarks"
   ]
  },
  {
   "cell_type": "code",
   "execution_count": 8,
   "metadata": {},
   "outputs": [
    {
     "data": {
      "text/plain": [
       "array([38, 34])"
      ]
     },
     "execution_count": 8,
     "metadata": {},
     "output_type": "execute_result"
    }
   ],
   "source": [
    "physicmarksfail=physicmarks[physicmarks<40]\n",
    "physicmarksfail"
   ]
  },
  {
   "cell_type": "code",
   "execution_count": 9,
   "metadata": {},
   "outputs": [
    {
     "data": {
      "text/plain": [
       "2"
      ]
     },
     "execution_count": 9,
     "metadata": {},
     "output_type": "execute_result"
    }
   ],
   "source": [
    "np.count_nonzero(physicmarksfail)"
   ]
  },
  {
   "cell_type": "markdown",
   "metadata": {},
   "source": [
    "#### Question 5 Ans"
   ]
  },
  {
   "cell_type": "code",
   "execution_count": 10,
   "metadata": {},
   "outputs": [],
   "source": [
    "subjectaverage=np.mean(marks,axis=0)"
   ]
  },
  {
   "cell_type": "code",
   "execution_count": 11,
   "metadata": {},
   "outputs": [
    {
     "data": {
      "text/plain": [
       "'Physics'"
      ]
     },
     "execution_count": 11,
     "metadata": {},
     "output_type": "execute_result"
    }
   ],
   "source": [
    "subjects[np.argmin(subjectaverage)]"
   ]
  }
 ],
 "metadata": {
  "kernelspec": {
   "display_name": "Python 3",
   "language": "python",
   "name": "python3"
  },
  "language_info": {
   "codemirror_mode": {
    "name": "ipython",
    "version": 3
   },
   "file_extension": ".py",
   "mimetype": "text/x-python",
   "name": "python",
   "nbconvert_exporter": "python",
   "pygments_lexer": "ipython3",
   "version": "3.6.5"
  }
 },
 "nbformat": 4,
 "nbformat_minor": 2
}
