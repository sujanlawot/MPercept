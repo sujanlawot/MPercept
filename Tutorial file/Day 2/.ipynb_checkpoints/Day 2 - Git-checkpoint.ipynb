{
 "cells": [
  {
   "cell_type": "markdown",
   "metadata": {},
   "source": [
    "# Git\n",
    "Git is a version-control system for tracking changes in computer files and coordinating work on those files among multiple people. It is primarily used for source-code management in software development, but it can be used to keep track of changes in any set of files."
   ]
  },
  {
   "cell_type": "markdown",
   "metadata": {},
   "source": [
    "## Basics of Git\n",
    "### Creating a new repo in local\n",
    "Create a new directory, navigate to it and type\n",
    "\n",
    "`git init`\n",
    "\n",
    "to create a new git repository\n",
    "\n",
    "### Cloning a repo from Github\n",
    "Find the url of the repo in Github and type\n",
    "\n",
    "`git clone <url of the repo>`\n",
    "\n",
    "### View status of repo\n",
    "To view status of your repo, type\n",
    "\n",
    "`git status`\n",
    "\n",
    "### Adding files and Committing changes\n",
    "Create a file in your repo and type\n",
    "\n",
    "`git add <filename>`\n",
    "\n",
    "to add the file so that git can track the changes made to it.\n",
    "\n",
    "To add all files, type\n",
    "\n",
    "`git add .`\n",
    "\n",
    "To commit the changes, type\n",
    "\n",
    "`git commit -m <message about the commit>`\n",
    "\n",
    "If you are committing in an already added file, you can type\n",
    "\n",
    "`git commit -am <message about the commit>`\n",
    "\n",
    "This will add the modified files and commit your changes.\n",
    "\n",
    "### Pushing and Pulling\n",
    "To push the changes to remote (GitHub), type\n",
    "\n",
    "`git push origin <branch name>`\n",
    "\n",
    "For example, if you want to push to the `master` branch, type\n",
    "\n",
    "`git push origin master`\n",
    "\n",
    "To update your local repo with changes from remote, type\n",
    "\n",
    "`git pull origin <branch name>`\n",
    "\n",
    "For example, if you want to pull changes from `master` branch, type\n",
    "\n",
    "`git pull origin master`\n",
    "\n",
    "Remember that you should commit your changes before pulling from remote to prevent losing uncommitted changes.\n",
    "\n",
    "### Branching\n",
    "To create a new branch, type\n",
    "\n",
    "`git checkout -b <branch name>`\n",
    "\n",
    "To switch between existing branches, type\n",
    "\n",
    "`git checkout <branch name>`\n",
    "\n",
    "## Notes for assignment submission\n",
    "1. Switch to your branch and pull the latest materials from master.\n",
    "2. Copy your assignments to the assignment folder.\n",
    "3. Add and commit your assignments.\n",
    "4. Push the commit to your branch (not master)."
   ]
  },
  {
   "cell_type": "code",
   "execution_count": null,
   "metadata": {},
   "outputs": [],
   "source": []
  }
 ],
 "metadata": {
  "kernelspec": {
   "display_name": "Python 3",
   "language": "python",
   "name": "python3"
  },
  "language_info": {
   "codemirror_mode": {
    "name": "ipython",
    "version": 3
   },
   "file_extension": ".py",
   "mimetype": "text/x-python",
   "name": "python",
   "nbconvert_exporter": "python",
   "pygments_lexer": "ipython3",
   "version": "3.7.3"
  }
 },
 "nbformat": 4,
 "nbformat_minor": 2
}
