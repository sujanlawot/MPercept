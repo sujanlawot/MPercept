{
 "cells": [
  {
   "cell_type": "markdown",
   "metadata": {},
   "source": [
    "# Function\n",
    "A function is a block of code which only runs when it is called. You can pass data, known as parameters, into a function. A function can return data as a result."
   ]
  },
  {
   "cell_type": "markdown",
   "metadata": {},
   "source": [
    "## Creating a Function\n",
    "In Python, a function is defined using the `def` keyword."
   ]
  },
  {
   "cell_type": "code",
   "execution_count": 1,
   "metadata": {},
   "outputs": [],
   "source": [
    "# empty function\n",
    "def my_function():\n",
    "    pass"
   ]
  },
  {
   "cell_type": "code",
   "execution_count": 2,
   "metadata": {},
   "outputs": [],
   "source": [
    "def my_function():\n",
    "    print('Hello from function!')"
   ]
  },
  {
   "cell_type": "markdown",
   "metadata": {},
   "source": [
    "## Calling a Function\n",
    "To call a function, use the function name followed by parenthesis."
   ]
  },
  {
   "cell_type": "code",
   "execution_count": 3,
   "metadata": {},
   "outputs": [
    {
     "name": "stdout",
     "output_type": "stream",
     "text": [
      "Hello from function!\n"
     ]
    }
   ],
   "source": [
    "my_function()"
   ]
  },
  {
   "cell_type": "markdown",
   "metadata": {},
   "source": [
    "## Parameters and Arguments\n",
    "Data can be passed to functions as arguments. Arguments can be passes as per the parameters in the function definition.\n",
    "\n",
    "Parameters are specified after the function name, inside the parentheses. You can add as many parameters as you want, just separate them with a comma.\n",
    "\n",
    "A **parameter** is a variable in a function definition. When a function is called, the **arguments** are the data you pass into the function's **parameters**. **Parameter** is variable in the declaration of function. **Argument** is the actual value of this variable that gets passed to function.\n",
    "\n",
    "The following example has a function with one parameter `name`. When the function is called, we pass along a name as argument, which is used inside the function to print the greeting."
   ]
  },
  {
   "cell_type": "code",
   "execution_count": 6,
   "metadata": {},
   "outputs": [
    {
     "name": "stdout",
     "output_type": "stream",
     "text": [
      "Hello, World!\n"
     ]
    }
   ],
   "source": [
    "def my_function(name):\n",
    "    print('Hello, ' + name + '!')\n",
    "\n",
    "my_function('World')"
   ]
  },
  {
   "cell_type": "markdown",
   "metadata": {},
   "source": [
    "## Default Argument\n",
    "If we call the function without argument(s), it uses the default value:"
   ]
  },
  {
   "cell_type": "code",
   "execution_count": 7,
   "metadata": {},
   "outputs": [
    {
     "name": "stdout",
     "output_type": "stream",
     "text": [
      "Hello, World!\n",
      "Hello, Nobody!\n"
     ]
    }
   ],
   "source": [
    "def my_function(name = 'Nobody'):\n",
    "    print('Hello, ' + name + '!')\n",
    "    \n",
    "my_function('World')\n",
    "my_function()"
   ]
  },
  {
   "cell_type": "markdown",
   "metadata": {},
   "source": [
    "## Return Values\n",
    "To let a function return a value, we use the `return` statement:"
   ]
  },
  {
   "cell_type": "code",
   "execution_count": 8,
   "metadata": {},
   "outputs": [
    {
     "name": "stdout",
     "output_type": "stream",
     "text": [
      "9\n",
      "15\n",
      "12\n"
     ]
    }
   ],
   "source": [
    "def add(x, y):\n",
    "    return x + y\n",
    "\n",
    "print(add(4, 5))\n",
    "print(add(5, 10))\n",
    "print(add(7, 5))"
   ]
  },
  {
   "cell_type": "markdown",
   "metadata": {},
   "source": [
    "## Keyword/Named Arguments\n",
    "In previous examples, we passed arguments to function as *positional arguments* where what *argument* was taken by which *parameter* was determined by the position of the argument. But you can pass them as *keyword arguments* and explicitly assign arguments to parameters."
   ]
  },
  {
   "cell_type": "code",
   "execution_count": 9,
   "metadata": {},
   "outputs": [
    {
     "name": "stdout",
     "output_type": "stream",
     "text": [
      "6\n"
     ]
    }
   ],
   "source": [
    "def subtract(a, b):\n",
    "    return a - b\n",
    "\n",
    "print(subtract(10, 4))"
   ]
  },
  {
   "cell_type": "code",
   "execution_count": 10,
   "metadata": {},
   "outputs": [
    {
     "data": {
      "text/plain": [
       "14"
      ]
     },
     "execution_count": 10,
     "metadata": {},
     "output_type": "execute_result"
    }
   ],
   "source": [
    "subtract(a=20, b=6)"
   ]
  },
  {
   "cell_type": "code",
   "execution_count": 11,
   "metadata": {},
   "outputs": [
    {
     "data": {
      "text/plain": [
       "20"
      ]
     },
     "execution_count": 11,
     "metadata": {},
     "output_type": "execute_result"
    }
   ],
   "source": [
    "subtract(b=4, a=24)  # order of arguments can be changed in keyword arguments"
   ]
  },
  {
   "cell_type": "code",
   "execution_count": 12,
   "metadata": {},
   "outputs": [
    {
     "data": {
      "text/plain": [
       "52"
      ]
     },
     "execution_count": 12,
     "metadata": {},
     "output_type": "execute_result"
    }
   ],
   "source": [
    "subtract(55, b=3)  # mixing positional and keyword arguments"
   ]
  },
  {
   "cell_type": "code",
   "execution_count": 13,
   "metadata": {},
   "outputs": [
    {
     "ename": "SyntaxError",
     "evalue": "positional argument follows keyword argument (<ipython-input-13-cb4fbdc92404>, line 1)",
     "output_type": "error",
     "traceback": [
      "\u001b[0;36m  File \u001b[0;32m\"<ipython-input-13-cb4fbdc92404>\"\u001b[0;36m, line \u001b[0;32m1\u001b[0m\n\u001b[0;31m    print(subtract(a=34, 6))  # this will result in error because positional argument cannot come after keyword argument\u001b[0m\n\u001b[0m                        ^\u001b[0m\n\u001b[0;31mSyntaxError\u001b[0m\u001b[0;31m:\u001b[0m positional argument follows keyword argument\n"
     ]
    }
   ],
   "source": [
    "print(subtract(a=34, 6))  # this will result in error because positional argument cannot come after keyword argument"
   ]
  },
  {
   "cell_type": "markdown",
   "metadata": {},
   "source": [
    "## Arbitrary Arguments\n",
    "Sometimes, we do not know in advance the number of arguments that will be passed into a function. Python allows us to handle this kind of situation through function calls with arbitrary number of arguments.\n",
    "\n",
    "To denote this kind of argument, we use an asterisk (\\*) before the parameter name in the function definition."
   ]
  },
  {
   "cell_type": "code",
   "execution_count": 16,
   "metadata": {},
   "outputs": [
    {
     "name": "stdout",
     "output_type": "stream",
     "text": [
      "Hello, World!\n",
      "Hello, Ram!\n",
      "Hello, Shyam!\n",
      "Hello, Sita!\n",
      "Hello, Geeta!\n"
     ]
    }
   ],
   "source": [
    "def my_function(*names):\n",
    "    for name in names:\n",
    "        print('Hello, ' + name + '!')\n",
    "\n",
    "my_function('World')\n",
    "my_function('Ram', 'Shyam', 'Sita', 'Geeta')"
   ]
  },
  {
   "cell_type": "markdown",
   "metadata": {},
   "source": [
    "Similarly, to handle arbitrary number of keyword arguments, we use double asterisk (\\*\\*) before the parameter name."
   ]
  },
  {
   "cell_type": "code",
   "execution_count": 18,
   "metadata": {},
   "outputs": [
    {
     "name": "stdout",
     "output_type": "stream",
     "text": [
      "name: Ram\n",
      "age: 24\n",
      "address: Kathmandu\n"
     ]
    }
   ],
   "source": [
    "def introduction(**info):\n",
    "    for key, value in info.items():\n",
    "        print('{}: {}'.format(key, value))\n",
    "\n",
    "introduction(name='Ram', age=24, address='Kathmandu')"
   ]
  },
  {
   "cell_type": "code",
   "execution_count": 19,
   "metadata": {},
   "outputs": [
    {
     "name": "stdout",
     "output_type": "stream",
     "text": [
      "name: Sita\n",
      "age: 22\n",
      "address: Pokhara\n",
      "status: Single\n"
     ]
    }
   ],
   "source": [
    "introduction(name='Sita', age=22, address='Pokhara', status='Single')"
   ]
  },
  {
   "cell_type": "markdown",
   "metadata": {},
   "source": [
    "Note that arbitrary *positional arguments* are actually passed as a *tuple* and arbitrary *keyword arguments* are actually passed as a *dictionary*."
   ]
  },
  {
   "cell_type": "code",
   "execution_count": 20,
   "metadata": {},
   "outputs": [
    {
     "name": "stdout",
     "output_type": "stream",
     "text": [
      "(1, 4, 'python') <class 'tuple'>\n",
      "{'a': 4, 'b': 6, 'planet': 'earth'} <class 'dict'>\n"
     ]
    }
   ],
   "source": [
    "# Combining both types\n",
    "def my_function(*args, **kwargs):\n",
    "    print(args, type(args))\n",
    "    print(kwargs, type(kwargs))\n",
    "\n",
    "my_function(1, 4, 'python', a=4, b=6, planet='earth')"
   ]
  },
  {
   "cell_type": "markdown",
   "metadata": {},
   "source": [
    "## Inner/Nested Functions"
   ]
  },
  {
   "cell_type": "code",
   "execution_count": 22,
   "metadata": {},
   "outputs": [
    {
     "name": "stdout",
     "output_type": "stream",
     "text": [
      "7\n"
     ]
    }
   ],
   "source": [
    "def outer(x):\n",
    "    def inner(x):\n",
    "        return x + 1\n",
    "    return inner(x * 2)\n",
    "\n",
    "print(outer(3))\n",
    "# print(inner(4))  # inner() is not accessible"
   ]
  },
  {
   "cell_type": "markdown",
   "metadata": {},
   "source": [
    "## Function Objects"
   ]
  },
  {
   "cell_type": "code",
   "execution_count": 23,
   "metadata": {},
   "outputs": [
    {
     "data": {
      "text/plain": [
       "6"
      ]
     },
     "execution_count": 23,
     "metadata": {},
     "output_type": "execute_result"
    }
   ],
   "source": [
    "def add(x, y):\n",
    "    return x + y\n",
    "\n",
    "add(2, 4)"
   ]
  },
  {
   "cell_type": "code",
   "execution_count": 24,
   "metadata": {},
   "outputs": [
    {
     "data": {
      "text/plain": [
       "9"
      ]
     },
     "execution_count": 24,
     "metadata": {},
     "output_type": "execute_result"
    }
   ],
   "source": [
    "plus = add\n",
    "plus(4, 5)"
   ]
  },
  {
   "cell_type": "code",
   "execution_count": 25,
   "metadata": {},
   "outputs": [
    {
     "data": {
      "text/plain": [
       "8"
      ]
     },
     "execution_count": 25,
     "metadata": {},
     "output_type": "execute_result"
    }
   ],
   "source": [
    "def calculate(func, a, b):\n",
    "    return func(a, b)\n",
    "\n",
    "calculate(add, 5, 3)"
   ]
  },
  {
   "cell_type": "markdown",
   "metadata": {},
   "source": [
    "# Class and Object\n",
    "Python is an object oriented programming language. Almost everything in Python is an object, with its attributes and methods.\n",
    "\n",
    "A *class* is like a blueprint for creating objects."
   ]
  },
  {
   "cell_type": "markdown",
   "metadata": {},
   "source": [
    "## Create a Class\n",
    "To create a class, use the keyword `class`:"
   ]
  },
  {
   "cell_type": "code",
   "execution_count": 26,
   "metadata": {},
   "outputs": [],
   "source": [
    "class MyClass:\n",
    "    pass"
   ]
  },
  {
   "cell_type": "markdown",
   "metadata": {},
   "source": [
    "## Creating an Object\n",
    "Now we can use the class named myClass to create instances of class called *objects*"
   ]
  },
  {
   "cell_type": "code",
   "execution_count": 27,
   "metadata": {},
   "outputs": [
    {
     "data": {
      "text/plain": [
       "__main__.MyClass"
      ]
     },
     "execution_count": 27,
     "metadata": {},
     "output_type": "execute_result"
    }
   ],
   "source": [
    "obj = MyClass()\n",
    "type(obj)"
   ]
  },
  {
   "cell_type": "markdown",
   "metadata": {},
   "source": [
    "## Attributes and Methods\n",
    "Classes are used to create objects, and all objects contain characteristics called *attributes*. The `__init__()` method to initialize an object’s initial attributes by giving them their default values.\n",
    "\n",
    "*Methods* are functions defined inside classes that can manipulate object attributes.\n",
    "\n",
    "The `self` variable denotes the instance itself although its name can be anything other than `self`."
   ]
  },
  {
   "cell_type": "code",
   "execution_count": 28,
   "metadata": {},
   "outputs": [],
   "source": [
    "class Person:\n",
    "    \n",
    "    def __init__(self, name, age):\n",
    "        self.name = name\n",
    "        self.age = age\n",
    "    \n",
    "    def description(self):\n",
    "        return \"{} is {} years old.\".format(self.name, self.age)\n",
    "    \n",
    "    def increase_age(self):\n",
    "        self.age += 1"
   ]
  },
  {
   "cell_type": "code",
   "execution_count": 29,
   "metadata": {},
   "outputs": [
    {
     "name": "stdout",
     "output_type": "stream",
     "text": [
      "Geeta is 24 years old.\n"
     ]
    }
   ],
   "source": [
    "p1 = Person('Geeta', 24)\n",
    "print(p1.description())"
   ]
  },
  {
   "cell_type": "code",
   "execution_count": 30,
   "metadata": {},
   "outputs": [
    {
     "name": "stdout",
     "output_type": "stream",
     "text": [
      "Geeta is 25 years old.\n"
     ]
    }
   ],
   "source": [
    "p1.increase_age()\n",
    "print(p1.description())"
   ]
  },
  {
   "cell_type": "markdown",
   "metadata": {},
   "source": [
    "## Inheritance"
   ]
  },
  {
   "cell_type": "code",
   "execution_count": 32,
   "metadata": {},
   "outputs": [
    {
     "name": "stdout",
     "output_type": "stream",
     "text": [
      "Name: Prabin, Age: 22, Result: Pass\n",
      "Name: Prabin, Age: 23, Result: Pass\n"
     ]
    }
   ],
   "source": [
    "# inheriting from Person\n",
    "class Student(Person):\n",
    "    \n",
    "    def set_result(self, x):\n",
    "        self.result = x\n",
    "    \n",
    "    def description(self):\n",
    "        return \"Name: {}, Age: {}, Result: {}\".format(self.name, self.age, self.result)\n",
    "    \n",
    "s1 = Student('Prabin', 22)\n",
    "s1.set_result('Pass')\n",
    "print(s1.description())\n",
    "s1.increase_age()\n",
    "print(s1.description())"
   ]
  },
  {
   "cell_type": "markdown",
   "metadata": {},
   "source": [
    "# Task 4\n",
    "1. Make a class to represent a complex number (a + ib). Your class should have methods to add, subtract and display the complex numbers correctly.\n",
    "2. Learn about `lambda` functions and their use.\n",
    "3. Learn about the built-in functions `map()`and `filter()` and their use.\n",
    "\n",
    "Bonus task: In Q1, try using *operator overloading* to implement addition and subtraction of complex numbers."
   ]
  },
  {
   "cell_type": "code",
   "execution_count": 74,
   "metadata": {},
   "outputs": [],
   "source": [
    "class complexnumber:\n",
    "    def __init__(self,real,imaginary):\n",
    "        self.real=real\n",
    "        self.imaginary=imaginary\n",
    "    def add(self,complexnumber):\n",
    "        r=self.real+complexnumber.real\n",
    "        i=self.imaginary+complexnumber.imaginary\n",
    "        print (\"({}+{}i)+({}+{}i)=({}+{}i)\".format(self.real,self.imaginary,complexnumber.real,complexnumber.imaginary,r,i))\n",
    "    def sub(self,complexnumber):\n",
    "        r=self.real-complexnumber.real\n",
    "        i=self.imaginary-complexnumber.imaginary\n",
    "        print (\"({}+{}i)-({}+{}i)=({}+{}i)\".format(self.real,self.imaginary,complexnumber.real,complexnumber.imaginary,r,i))    \n",
    "    def display(self):\n",
    "        print (\"{}+{}i\".format(self.real, self.imaginary))\n",
    "        "
   ]
  },
  {
   "cell_type": "code",
   "execution_count": 75,
   "metadata": {},
   "outputs": [],
   "source": [
    "one=complexnumber(3,2)"
   ]
  },
  {
   "cell_type": "code",
   "execution_count": 76,
   "metadata": {},
   "outputs": [],
   "source": [
    "two=complexnumber(3,3)"
   ]
  },
  {
   "cell_type": "code",
   "execution_count": 77,
   "metadata": {},
   "outputs": [
    {
     "name": "stdout",
     "output_type": "stream",
     "text": [
      "(3+2i)+(3+3i)=(6+5i)\n"
     ]
    }
   ],
   "source": [
    "one.add(two)"
   ]
  },
  {
   "cell_type": "code",
   "execution_count": 78,
   "metadata": {},
   "outputs": [
    {
     "name": "stdout",
     "output_type": "stream",
     "text": [
      "3+2i\n"
     ]
    }
   ],
   "source": [
    "one.display()"
   ]
  },
  {
   "cell_type": "code",
   "execution_count": 79,
   "metadata": {},
   "outputs": [
    {
     "name": "stdout",
     "output_type": "stream",
     "text": [
      "(3+2i)-(3+3i)=(0+-1i)\n"
     ]
    }
   ],
   "source": [
    "one.sub(two)"
   ]
  },
  {
   "cell_type": "code",
   "execution_count": null,
   "metadata": {},
   "outputs": [],
   "source": []
  }
 ],
 "metadata": {
  "kernelspec": {
   "display_name": "Python 3",
   "language": "python",
   "name": "python3"
  },
  "language_info": {
   "codemirror_mode": {
    "name": "ipython",
    "version": 3
   },
   "file_extension": ".py",
   "mimetype": "text/x-python",
   "name": "python",
   "nbconvert_exporter": "python",
   "pygments_lexer": "ipython3",
   "version": "3.7.3"
  }
 },
 "nbformat": 4,
 "nbformat_minor": 2
}
